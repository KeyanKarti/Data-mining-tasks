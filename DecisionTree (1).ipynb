{
 "cells": [
  {
   "cell_type": "code",
   "execution_count": 117,
   "metadata": {},
   "outputs": [],
   "source": [
    "import pandas as pd\n",
    "import numpy as np\n",
    "from sklearn.model_selection import train_test_split\n",
    "from sklearn.metrics import classification_report, accuracy_score\n",
    "from sklearn.model_selection import GridSearchCV\n",
    "import pydot\n",
    "from io import StringIO\n",
    "from sklearn.tree import export_graphviz\n",
    "#from dm_tools import data_prep\n",
    "from sklearn.preprocessing import StandardScaler\n",
    "from sklearn.neural_network import MLPClassifier\n",
    "from sklearn.model_selection import train_test_split\n",
    "from sklearn.tree import DecisionTreeClassifier\n",
    "from sklearn.metrics import classification_report, accuracy_score\n",
    "from collections import Counter\n",
    "from sklearn.tree import DecisionTreeClassifier\n",
    "from sklearn.metrics import classification_report, accuracy_score\n",
    "from sklearn.feature_extraction.text import CountVectorizer\n",
    "from imblearn.over_sampling import SMOTE\n",
    "from imblearn.under_sampling import ClusterCentroids\n",
    "from PIL import Image \n",
    "import matplotlib.pyplot as plt\n",
    "from sklearn.preprocessing import StandardScaler\n",
    "from sklearn.linear_model import LogisticRegression"
   ]
  },
  {
   "cell_type": "code",
   "execution_count": 75,
   "metadata": {},
   "outputs": [],
   "source": [
    "# Preprocessing \n",
    "#listing the nominal and numercial values\n",
    "nominal_cols = ['Auction', 'Make','TopThreeAmericanName','Color', 'Transmission', 'Nationality', 'Size', 'VNST','WheelType']\n",
    "\n",
    "num_cols = ['VehYear', 'VehBCost','VehOdo','IsOnlineSale', 'WarrantyCost','MMRAcquisitionAuctionAveragePrice', 'MMRAcquisitionAuctionCleanPrice',\n",
    "                        'MMRAcquisitionRetailAveragePrice', 'MMRAcquisitonRetailCleanPrice',\n",
    "                        'MMRCurrentAuctionAveragePrice', 'MMRCurrentAuctionCleanPrice',\n",
    "                        'MMRCurrentRetailAveragePrice', 'MMRCurrentRetailCleanPrice']"
   ]
  },
  {
   "cell_type": "code",
   "execution_count": 76,
   "metadata": {},
   "outputs": [],
   "source": [
    "## Defining missing values\n",
    "def fill_missing_values(df):\n",
    "   \n",
    "    for col in num_cols:\n",
    "        df[col] = df[col].fillna(df[col].median())\n",
    "    \n",
    "    for col in nominal_cols:\n",
    "        mode = df[col].mode()[0]\n",
    "        df[col] = df[col].fillna(mode)\n",
    "\n",
    "    return df"
   ]
  },
  {
   "cell_type": "code",
   "execution_count": 77,
   "metadata": {},
   "outputs": [],
   "source": [
    "#deleting the unwanted features\n",
    "def feature_engineering(df):\n",
    "   \n",
    "    del df['WheelTypeID'] #Wheeltype ID is used. Wheeltype and WheeltypeID is dervided\n",
    "    del df['PurchaseID']  \n",
    "    del df['ForSale']    #Just inclined to yes excluding 6 records\n",
    "    del df['PurchaseDate'] #We are using Vehicle year  to measure the time series and hence, deleting it. \n",
    "    del df['MMRCurrentRetailRatio'] #Derived type\n",
    "    del df['PRIMEUNIT'] # more than 80% of the values are empty\n",
    "    del df['AUCGUART'] # more than 80% of the values are empty\n",
    "    del df['PurchaseTimestamp'] # We are using year as a way of time measure. Hence, Time stamp is not needed.\n",
    "    \n",
    "    return df"
   ]
  },
  {
   "cell_type": "code",
   "execution_count": 78,
   "metadata": {},
   "outputs": [],
   "source": [
    "def data_type_change(df):\n",
    "    # change Transmission into binary 0/1 variable\n",
    "    Transmission_map = {\"AUTO\":0, \"MANUAL\": 1,'Manual':1}\n",
    "    df['Transmission'] = df['Transmission'].map(Transmission_map)\n",
    "    df['Transmission'].fillna(df['Transmission'].mode(),inplace=True)\n",
    "    \n",
    "    WheelType_map = {\"Alloy\":1, \"Covers\": 2, \"Special\": 3}\n",
    "    df['WheelType'] = df['WheelType'].map(WheelType_map)\n",
    "    \n",
    "    Auction_map={'ADESA':0,'MANHEIM':1,'OTHER':2}\n",
    "    df['Auction']=df['Auction'].map(Auction_map)\n",
    "    \n",
    "   \n",
    "    Make_map={'ACURA':0,'BUICK':1,'CADILLAC':3,'CHEVROLET':4,'CHRYSLER':5,'DODGE':6,'FORD':7,'GMC':8,'HONDA':9,'HYUNDAI':10,'INFINITI':11,'ISUZU':12,'JEEP':13,'KIA':14,'LEXUS':15,'LINCOLN':16,'MAZDA':17,'MERCURY':18,'MINI':19,'MITSUBISHI':20,'NISSAN':21,'OLDSMOBILE':22,'PONTIAC':23,'SATURN':24,'SCION':25,'SUBARU':26,'SUZUKI':27,'TOYOTA':2,'VOLKSWAGEN':28,'VOLVO':29}\n",
    "    df['Make']=df['Make'].map(Make_map)\n",
    "    #df['Make'].fillna(df['Make'].mode(),inplace=True)\n",
    "    \n",
    "    \n",
    "    american_name_map={'CHRYSLER':0,'FORD':1,'GM':2,'OTHER':3}\n",
    "    df['TopThreeAmericanName']=df['TopThreeAmericanName'].map(american_name_map)\n",
    "    \n",
    "    Color_map={'BEIGE':0,'BLACK':1,'BLUE':2,'BROWN':3,'GOLD':4,'GREEN':5,'GREY':6,'MAROON':7,'NOT AVAIL':8,'ORANGE':9,'OTHER':10,'PURPLE':11,'RED':12,'SILVER':13,'WHITE':14,'YELLOW':15}\n",
    "    df['Color']=df['Color'].map(Color_map)\n",
    "    \n",
    "    Nationality_map={'AMERICAN':0,'OTHER':1,'OTHER ASIAN':2,'TOP LINE ASIAN':3,'USA':4}\n",
    "    df['Nationality']=df['Nationality'].map(Nationality_map)\n",
    "    \n",
    "    Size_map={'COMPACT':0,'CROSSOVER':1,'LARGE':2,'LARGE SUV':3,'LARGE TRUCK':4,'MEDIUM':5,'MEDIUM SUV':6,'SMALL SUV':7,'SMALL TRUCK':8,'SPECIALTY':9,'SPORTS':10,'VAN':11}    \n",
    "    df['Size']=df['Size'].map(Size_map)\n",
    "    \n",
    "    vnst_map = {'TX':0, 'FL':1,'CO':2,'NC':3,'AZ':4,'CA':5,'OK':6,'SC':7,'TN':8,'GA':9,'VA':10,'MO':11,'PA':12,'NV':13,'IN':14,'MS':15,'LA':16,'NJ':17,'NM':18,'KY':19,'AL':20,'IL':21,'UT':22,'WV':23,'WA':24,'OR':25,'NH':26,'NE':27,'OH':28,'ID':29,'NY':30}\n",
    "    df['VNST'] = df['VNST'].map(vnst_map)\n",
    "    \n",
    "    df['Transmission'] = df['Transmission'].astype(float)\n",
    "    df['Auction'] = df['Auction'].astype(float)\n",
    "    df['Make'] = df['Make'].astype(float)\n",
    "    df['TopThreeAmericanName'] = df['TopThreeAmericanName'].astype(float)\n",
    "    df['Nationality'] = df['Nationality'].astype(float)\n",
    "    df['Size'] = df['Size'].astype(float)\n",
    "    df['VNST'] = df['VNST'].astype(float)\n",
    "    df['VehBCost'] = df['VehBCost'].astype(float)\n",
    "    df['WheelType'] = df['WheelType'].astype(int)\n",
    "    df['IsOnlineSale'] = df['IsOnlineSale'].astype(float)\n",
    "    df['MMRAcquisitionAuctionAveragePrice'] = df['MMRAcquisitionAuctionAveragePrice'].astype(float)\n",
    "    df['MMRAcquisitionAuctionCleanPrice'] = df['MMRAcquisitionAuctionCleanPrice'].astype(float)\n",
    "    df['MMRAcquisitionRetailAveragePrice'] = df['MMRAcquisitionRetailAveragePrice'].astype(float)\n",
    "    df['MMRAcquisitonRetailCleanPrice'] = df['MMRAcquisitonRetailCleanPrice'].astype(float)\n",
    "    df['MMRCurrentAuctionAveragePrice'] = df['MMRCurrentAuctionAveragePrice'].astype(float)\n",
    "    df['MMRCurrentAuctionCleanPrice'] = df['MMRCurrentAuctionCleanPrice'].astype(float)\n",
    "    df['MMRCurrentRetailAveragePrice'] = df['MMRCurrentRetailAveragePrice'].astype(float)\n",
    "    df['MMRCurrentRetailCleanPrice'] = df['MMRCurrentRetailCleanPrice'].astype(float)\n",
    "    \n",
    "    \n",
    "    \n",
    "    return df"
   ]
  },
  {
   "cell_type": "code",
   "execution_count": 79,
   "metadata": {},
   "outputs": [],
   "source": [
    "def error_replacing_For_IsOnlineSale(df):\n",
    "    mask = df['IsOnlineSale'] == -1 \n",
    "    df.loc[mask, 'IsOnlineSale'] = np.nan\n",
    "    mask = df['IsOnlineSale'] == 2 \n",
    "    df.loc[mask, 'IsOnlineSale'] = np.nan\n",
    "    mask = df['IsOnlineSale'] == 4 \n",
    "    df.loc[mask, 'IsOnlineSale'] = np.nan\n",
    "    \n",
    "    return df"
   ]
  },
  {
   "cell_type": "code",
   "execution_count": 80,
   "metadata": {},
   "outputs": [],
   "source": [
    "# Converting Nominal into Numerica type\n",
    "def convert_nominal_cols(df):\n",
    "    '''\n",
    "    This function converts nominal cols to one-hot vectors\n",
    "    '''\n",
    "    global nominal_cols\n",
    "    df_with_dummies = pd.get_dummies(df, columns = nominal_cols)\n",
    "    \n",
    "    return df_with_dummies\n"
   ]
  },
  {
   "cell_type": "code",
   "execution_count": 81,
   "metadata": {},
   "outputs": [],
   "source": [
    "def analyse_feature_importance(dm_model, feature_names, n_to_display=20):\n",
    "    # grab feature importances from the model\n",
    "    importances = dm_model.feature_importances_\n",
    "\n",
    "    # sort them out in descending order\n",
    "    indices = np.argsort(importances)\n",
    "    indices = np.flip(indices, axis=0)\n",
    "\n",
    "    # limit to 20 features, you can leave this out to print out everything\n",
    "    indices = indices[:n_to_display]\n",
    "\n",
    "    for i in indices:\n",
    "       print(feature_names[i], ':', importances[i])\n",
    "\n",
    "def visualize_decision_tree(dm_model, feature_names, save_name):\n",
    "    import pydot\n",
    "    from io import StringIO\n",
    "    from sklearn.tree import export_graphviz\n",
    "    \n",
    "    dotfile = StringIO()\n",
    "    export_graphviz(dm_model, out_file=dotfile, feature_names=feature_names)\n",
    "    graph = pydot.graph_from_dot_data(dotfile.getvalue())\n",
    "    graph[0].write_png(save_name) # saved in the following file"
   ]
  },
  {
   "cell_type": "code",
   "execution_count": 82,
   "metadata": {},
   "outputs": [],
   "source": [
    "def preprocessing():\n",
    "   \n",
    "    df = pd.read_csv('CaseStudyData.csv')\n",
    "    #droping the columns with continuosly 10 null values\n",
    "    new1_df=df.dropna(axis=0,thresh=10)\n",
    "    #Rerplacing ? with null values\n",
    "    new_df = new1_df.replace(['?'], np.nan, inplace=False)\n",
    "    error_replacing_For_IsOnlineSale(new_df)\n",
    "    fill_missing_values(new_df)\n",
    "    feature_engineering(new_df)\n",
    "    convert_nominal_cols(new_df)\n",
    "    return new_df"
   ]
  },
  {
   "cell_type": "code",
   "execution_count": 83,
   "metadata": {},
   "outputs": [
    {
     "name": "stderr",
     "output_type": "stream",
     "text": [
      "C:\\Users\\n10155694\\AppData\\Local\\Continuum\\anaconda3\\lib\\site-packages\\IPython\\core\\interactiveshell.py:3020: DtypeWarning: Columns (27) have mixed types. Specify dtype option on import or set low_memory=False.\n",
      "  interactivity=interactivity, compiler=compiler, result=result)\n",
      "C:\\Users\\n10155694\\AppData\\Local\\Continuum\\anaconda3\\lib\\site-packages\\IPython\\core\\interactiveshell.py:3185: DtypeWarning: Columns (27) have mixed types. Specify dtype option on import or set low_memory=False.\n",
      "  if (yield from self.run_code(code, result)):\n"
     ]
    },
    {
     "name": "stdout",
     "output_type": "stream",
     "text": [
      "<class 'pandas.core.frame.DataFrame'>\n",
      "Int64Index: 41432 entries, 0 to 41475\n",
      "Data columns (total 23 columns):\n",
      "Auction                              41432 non-null float64\n",
      "VehYear                              41432 non-null float64\n",
      "Make                                 41432 non-null float64\n",
      "Color                                41432 non-null int64\n",
      "Transmission                         41432 non-null float64\n",
      "WheelType                            41432 non-null int32\n",
      "VehOdo                               41432 non-null float64\n",
      "Nationality                          41432 non-null float64\n",
      "Size                                 41432 non-null float64\n",
      "TopThreeAmericanName                 41432 non-null float64\n",
      "MMRAcquisitionAuctionAveragePrice    41432 non-null float64\n",
      "MMRAcquisitionAuctionCleanPrice      41432 non-null float64\n",
      "MMRAcquisitionRetailAveragePrice     41432 non-null float64\n",
      "MMRAcquisitonRetailCleanPrice        41432 non-null float64\n",
      "MMRCurrentAuctionAveragePrice        41432 non-null float64\n",
      "MMRCurrentAuctionCleanPrice          41432 non-null float64\n",
      "MMRCurrentRetailAveragePrice         41432 non-null float64\n",
      "MMRCurrentRetailCleanPrice           41432 non-null float64\n",
      "VNST                                 41432 non-null float64\n",
      "VehBCost                             41432 non-null float64\n",
      "IsOnlineSale                         41432 non-null float64\n",
      "WarrantyCost                         41432 non-null float64\n",
      "IsBadBuy                             41432 non-null int64\n",
      "dtypes: float64(20), int32(1), int64(2)\n",
      "memory usage: 7.4 MB\n",
      "None\n"
     ]
    }
   ],
   "source": [
    "df = pd.read_csv('CaseStudyData.csv')\n",
    "df = preprocessing()\n",
    "df2 = data_type_change(df)\n",
    "df2.to_csv(\"CaseStudyData1.csv\")\n",
    "print(df2.info())\n",
    "Y = df2['IsBadBuy']\n",
    "X = df2.drop(['IsBadBuy'], axis=1)\n",
    "rs=10\n",
    "#Split the data based on training and testing with 70 and 30%\n",
    "X_train, X_test, Y_train, Y_test = train_test_split(X, Y, test_size=0.3, stratify=Y, random_state=rs)"
   ]
  },
  {
   "cell_type": "markdown",
   "metadata": {},
   "source": [
    "# Decision tree"
   ]
  },
  {
   "cell_type": "code",
   "execution_count": 84,
   "metadata": {},
   "outputs": [
    {
     "name": "stdout",
     "output_type": "stream",
     "text": [
      "*********************Simple decisoin tree*********************\n",
      "Train accuracy: 1.0\n",
      "Test accuracy: 0.7851166532582462\n",
      "Number of nodes:  7373\n",
      "              precision    recall  f1-score   support\n",
      "\n",
      "           0       0.88      0.87      0.88     10820\n",
      "           1       0.21      0.23      0.22      1610\n",
      "\n",
      "   micro avg       0.79      0.79      0.79     12430\n",
      "   macro avg       0.55      0.55      0.55     12430\n",
      "weighted avg       0.80      0.79      0.79     12430\n",
      "\n"
     ]
    }
   ],
   "source": [
    "# simple decision tree training \n",
    "model = DecisionTreeClassifier(random_state=rs)\n",
    "model.fit(X_train, Y_train)\n",
    "#print Y_train.value_counts()\n",
    "print (\"*********************Simple decisoin tree*********************\")\n",
    "print(\"Train accuracy:\", model.score(X_train, Y_train))\n",
    "print(\"Test accuracy:\", model.score(X_test, Y_test))\n",
    "print(\"Number of nodes: \",model.tree_.node_count)\n",
    "Y_pred = model.predict(X_test)\n",
    "print(classification_report(Y_test, Y_pred))"
   ]
  },
  {
   "cell_type": "code",
   "execution_count": 54,
   "metadata": {},
   "outputs": [
    {
     "name": "stdout",
     "output_type": "stream",
     "text": [
      "*********************Prediction for test data*********************\n",
      "Train accuracy: 1.0\n",
      "Test accuracy: 0.7839098954143202\n",
      "Number of nodes:  7973\n",
      "              precision    recall  f1-score   support\n",
      "\n",
      "           0       0.89      0.86      0.87     10820\n",
      "           1       0.22      0.26      0.24      1610\n",
      "\n",
      "   micro avg       0.78      0.78      0.78     12430\n",
      "   macro avg       0.55      0.56      0.56     12430\n",
      "weighted avg       0.80      0.78      0.79     12430\n",
      "\n"
     ]
    }
   ],
   "source": [
    "sm = SMOTE(random_state=42)\n",
    "x_res, y_res = sm.fit_sample(X_train, Y_train)\n",
    "model.fit(x_res, y_res)\n",
    "print (\"*********************Prediction for test data*********************\")\n",
    "print(\"Train accuracy:\", model.score(x_res, y_res))\n",
    "print(\"Test accuracy:\", model.score(X_test, Y_test))\n",
    "print(\"Number of nodes: \",model.tree_.node_count)\n",
    "y_pred = model.predict(X_test)\n",
    "print(classification_report(Y_test, y_pred))"
   ]
  },
  {
   "cell_type": "code",
   "execution_count": 55,
   "metadata": {},
   "outputs": [
    {
     "name": "stdout",
     "output_type": "stream",
     "text": [
      "*********************Decisoin tree with underfitting of the train data*********************\n",
      "Train accuracy: 1.0\n",
      "Test accuracy: 0.22751407884151248\n",
      "Number of nodes:  923\n",
      "*********************Prediction for test data*********************\n",
      "              precision    recall  f1-score   support\n",
      "\n",
      "           0       0.89      0.13      0.22     10820\n",
      "           1       0.13      0.90      0.23      1610\n",
      "\n",
      "   micro avg       0.23      0.23      0.23     12430\n",
      "   macro avg       0.51      0.51      0.23     12430\n",
      "weighted avg       0.79      0.23      0.22     12430\n",
      "\n"
     ]
    }
   ],
   "source": [
    "# simple decision tree training for undersampled data\n",
    "cc = ClusterCentroids(random_state=0)\n",
    "X_under, Y_under = cc.fit_resample(X_train, Y_train)\n",
    "model = DecisionTreeClassifier(random_state=rs)\n",
    "model.fit(X_under, Y_under)\n",
    "print (\"*********************Decisoin tree with underfitting of the train data*********************\")\n",
    "print(\"Train accuracy:\", model.score(X_under, Y_under))\n",
    "print(\"Test accuracy:\", model.score(X_test, Y_test))\n",
    "print(\"Number of nodes: \",model.tree_.node_count)\n",
    "print (\"*********************Prediction for test data*********************\")\n",
    "y_pred = model.predict(X_test)\n",
    "print(classification_report(Y_test, y_pred))"
   ]
  },
  {
   "cell_type": "code",
   "execution_count": 85,
   "metadata": {},
   "outputs": [
    {
     "name": "stdout",
     "output_type": "stream",
     "text": [
      "VehOdo : 0.11056465669524385\n",
      "VehBCost : 0.09854951397431685\n",
      "MMRAcquisitionRetailAveragePrice : 0.06717483317168223\n",
      "MMRCurrentAuctionAveragePrice : 0.06599777118371636\n",
      "MMRCurrentRetailCleanPrice : 0.06481747046982868\n",
      "MMRCurrentRetailAveragePrice : 0.06375962508640055\n",
      "MMRCurrentAuctionCleanPrice : 0.06273792032048549\n",
      "MMRAcquisitionAuctionCleanPrice : 0.06074040953840425\n",
      "MMRAcquisitionAuctionAveragePrice : 0.05995792303772442\n",
      "MMRAcquisitonRetailCleanPrice : 0.057301802123321983\n",
      "WarrantyCost : 0.05462887057347005\n",
      "VNST : 0.04970756765148726\n",
      "Color : 0.03982241119130328\n",
      "Make : 0.034003949634588096\n",
      "VehYear : 0.031563653053004126\n",
      "Size : 0.024255040639621427\n",
      "Auction : 0.01735174792863429\n",
      "TopThreeAmericanName : 0.012628992607344531\n",
      "WheelType : 0.011212782317357438\n",
      "Nationality : 0.006267300967203393\n"
     ]
    }
   ],
   "source": [
    "# grab feature importances from the model and feature name from the original X\n",
    "importances = model.feature_importances_\n",
    "feature_names = X.columns\n",
    "\n",
    "# sort them out in descending order\n",
    "indices = np.argsort(importances)\n",
    "indices = np.flip(indices, axis=0)\n",
    "\n",
    "# limit to 20 features, you can leave this out to print out everything\n",
    "indices = indices[:20]\n",
    "\n",
    "for i in indices:\n",
    "    print(feature_names[i], ':', importances[i])"
   ]
  },
  {
   "cell_type": "code",
   "execution_count": 86,
   "metadata": {},
   "outputs": [
    {
     "ename": "KeyboardInterrupt",
     "evalue": "",
     "output_type": "error",
     "traceback": [
      "\u001b[1;31m---------------------------------------------------------------------------\u001b[0m",
      "\u001b[1;31mKeyboardInterrupt\u001b[0m                         Traceback (most recent call last)",
      "\u001b[1;32m<ipython-input-86-dd33b613a5e4>\u001b[0m in \u001b[0;36m<module>\u001b[1;34m\u001b[0m\n\u001b[0;32m      3\u001b[0m \u001b[0mexport_graphviz\u001b[0m\u001b[1;33m(\u001b[0m\u001b[0mmodel\u001b[0m\u001b[1;33m,\u001b[0m \u001b[0mout_file\u001b[0m\u001b[1;33m=\u001b[0m\u001b[0mdotfile\u001b[0m\u001b[1;33m,\u001b[0m \u001b[0mfeature_names\u001b[0m\u001b[1;33m=\u001b[0m\u001b[0mX\u001b[0m\u001b[1;33m.\u001b[0m\u001b[0mcolumns\u001b[0m\u001b[1;33m)\u001b[0m\u001b[1;33m\u001b[0m\u001b[1;33m\u001b[0m\u001b[0m\n\u001b[0;32m      4\u001b[0m \u001b[0mgraph\u001b[0m \u001b[1;33m=\u001b[0m \u001b[0mpydot\u001b[0m\u001b[1;33m.\u001b[0m\u001b[0mgraph_from_dot_data\u001b[0m\u001b[1;33m(\u001b[0m\u001b[0mdotfile\u001b[0m\u001b[1;33m.\u001b[0m\u001b[0mgetvalue\u001b[0m\u001b[1;33m(\u001b[0m\u001b[1;33m)\u001b[0m\u001b[1;33m)\u001b[0m\u001b[1;33m\u001b[0m\u001b[1;33m\u001b[0m\u001b[0m\n\u001b[1;32m----> 5\u001b[1;33m \u001b[0mgraph\u001b[0m\u001b[1;33m[\u001b[0m\u001b[1;36m0\u001b[0m\u001b[1;33m]\u001b[0m\u001b[1;33m.\u001b[0m\u001b[0mwrite_png\u001b[0m\u001b[1;33m(\u001b[0m\u001b[1;34m\"week3_dt_viz.png\"\u001b[0m\u001b[1;33m)\u001b[0m\u001b[1;33m\u001b[0m\u001b[1;33m\u001b[0m\u001b[0m\n\u001b[0m",
      "\u001b[1;32m~\\AppData\\Local\\Continuum\\anaconda3\\lib\\site-packages\\pydot.py\u001b[0m in \u001b[0;36mnew_method\u001b[1;34m(path, f, prog, encoding)\u001b[0m\n\u001b[0;32m   1732\u001b[0m                 self.write(\n\u001b[0;32m   1733\u001b[0m                     \u001b[0mpath\u001b[0m\u001b[1;33m,\u001b[0m \u001b[0mformat\u001b[0m\u001b[1;33m=\u001b[0m\u001b[0mf\u001b[0m\u001b[1;33m,\u001b[0m \u001b[0mprog\u001b[0m\u001b[1;33m=\u001b[0m\u001b[0mprog\u001b[0m\u001b[1;33m,\u001b[0m\u001b[1;33m\u001b[0m\u001b[1;33m\u001b[0m\u001b[0m\n\u001b[1;32m-> 1734\u001b[1;33m                     encoding=encoding)\n\u001b[0m\u001b[0;32m   1735\u001b[0m             \u001b[0mname\u001b[0m \u001b[1;33m=\u001b[0m \u001b[1;34m'write_{fmt}'\u001b[0m\u001b[1;33m.\u001b[0m\u001b[0mformat\u001b[0m\u001b[1;33m(\u001b[0m\u001b[0mfmt\u001b[0m\u001b[1;33m=\u001b[0m\u001b[0mfrmt\u001b[0m\u001b[1;33m)\u001b[0m\u001b[1;33m\u001b[0m\u001b[1;33m\u001b[0m\u001b[0m\n\u001b[0;32m   1736\u001b[0m             \u001b[0mself\u001b[0m\u001b[1;33m.\u001b[0m\u001b[0m__setattr__\u001b[0m\u001b[1;33m(\u001b[0m\u001b[0mname\u001b[0m\u001b[1;33m,\u001b[0m \u001b[0mnew_method\u001b[0m\u001b[1;33m)\u001b[0m\u001b[1;33m\u001b[0m\u001b[1;33m\u001b[0m\u001b[0m\n",
      "\u001b[1;32m~\\AppData\\Local\\Continuum\\anaconda3\\lib\\site-packages\\pydot.py\u001b[0m in \u001b[0;36mwrite\u001b[1;34m(self, path, prog, format, encoding)\u001b[0m\n\u001b[0;32m   1815\u001b[0m                 \u001b[0mf\u001b[0m\u001b[1;33m.\u001b[0m\u001b[0mwrite\u001b[0m\u001b[1;33m(\u001b[0m\u001b[0ms\u001b[0m\u001b[1;33m)\u001b[0m\u001b[1;33m\u001b[0m\u001b[1;33m\u001b[0m\u001b[0m\n\u001b[0;32m   1816\u001b[0m         \u001b[1;32melse\u001b[0m\u001b[1;33m:\u001b[0m\u001b[1;33m\u001b[0m\u001b[1;33m\u001b[0m\u001b[0m\n\u001b[1;32m-> 1817\u001b[1;33m             \u001b[0ms\u001b[0m \u001b[1;33m=\u001b[0m \u001b[0mself\u001b[0m\u001b[1;33m.\u001b[0m\u001b[0mcreate\u001b[0m\u001b[1;33m(\u001b[0m\u001b[0mprog\u001b[0m\u001b[1;33m,\u001b[0m \u001b[0mformat\u001b[0m\u001b[1;33m,\u001b[0m \u001b[0mencoding\u001b[0m\u001b[1;33m=\u001b[0m\u001b[0mencoding\u001b[0m\u001b[1;33m)\u001b[0m\u001b[1;33m\u001b[0m\u001b[1;33m\u001b[0m\u001b[0m\n\u001b[0m\u001b[0;32m   1818\u001b[0m             \u001b[1;32mwith\u001b[0m \u001b[0mio\u001b[0m\u001b[1;33m.\u001b[0m\u001b[0mopen\u001b[0m\u001b[1;33m(\u001b[0m\u001b[0mpath\u001b[0m\u001b[1;33m,\u001b[0m \u001b[0mmode\u001b[0m\u001b[1;33m=\u001b[0m\u001b[1;34m'wb'\u001b[0m\u001b[1;33m)\u001b[0m \u001b[1;32mas\u001b[0m \u001b[0mf\u001b[0m\u001b[1;33m:\u001b[0m\u001b[1;33m\u001b[0m\u001b[1;33m\u001b[0m\u001b[0m\n\u001b[0;32m   1819\u001b[0m                 \u001b[0mf\u001b[0m\u001b[1;33m.\u001b[0m\u001b[0mwrite\u001b[0m\u001b[1;33m(\u001b[0m\u001b[0ms\u001b[0m\u001b[1;33m)\u001b[0m\u001b[1;33m\u001b[0m\u001b[1;33m\u001b[0m\u001b[0m\n",
      "\u001b[1;32m~\\AppData\\Local\\Continuum\\anaconda3\\lib\\site-packages\\pydot.py\u001b[0m in \u001b[0;36mcreate\u001b[1;34m(self, prog, format, encoding)\u001b[0m\n\u001b[0;32m   1913\u001b[0m                 \u001b[0mprogram\u001b[0m\u001b[1;33m=\u001b[0m\u001b[0mprog\u001b[0m\u001b[1;33m,\u001b[0m\u001b[1;33m\u001b[0m\u001b[1;33m\u001b[0m\u001b[0m\n\u001b[0;32m   1914\u001b[0m                 \u001b[0marguments\u001b[0m\u001b[1;33m=\u001b[0m\u001b[0marguments\u001b[0m\u001b[1;33m,\u001b[0m\u001b[1;33m\u001b[0m\u001b[1;33m\u001b[0m\u001b[0m\n\u001b[1;32m-> 1915\u001b[1;33m                 \u001b[0mworking_dir\u001b[0m\u001b[1;33m=\u001b[0m\u001b[0mtmp_dir\u001b[0m\u001b[1;33m,\u001b[0m\u001b[1;33m\u001b[0m\u001b[1;33m\u001b[0m\u001b[0m\n\u001b[0m\u001b[0;32m   1916\u001b[0m             )\n\u001b[0;32m   1917\u001b[0m         \u001b[1;32mexcept\u001b[0m \u001b[0mOSError\u001b[0m \u001b[1;32mas\u001b[0m \u001b[0me\u001b[0m\u001b[1;33m:\u001b[0m\u001b[1;33m\u001b[0m\u001b[1;33m\u001b[0m\u001b[0m\n",
      "\u001b[1;32m~\\AppData\\Local\\Continuum\\anaconda3\\lib\\site-packages\\pydot.py\u001b[0m in \u001b[0;36mcall_graphviz\u001b[1;34m(program, arguments, working_dir, **kwargs)\u001b[0m\n\u001b[0;32m    136\u001b[0m         \u001b[1;33m**\u001b[0m\u001b[0mkwargs\u001b[0m\u001b[1;33m\u001b[0m\u001b[1;33m\u001b[0m\u001b[0m\n\u001b[0;32m    137\u001b[0m     )\n\u001b[1;32m--> 138\u001b[1;33m     \u001b[0mstdout_data\u001b[0m\u001b[1;33m,\u001b[0m \u001b[0mstderr_data\u001b[0m \u001b[1;33m=\u001b[0m \u001b[0mprocess\u001b[0m\u001b[1;33m.\u001b[0m\u001b[0mcommunicate\u001b[0m\u001b[1;33m(\u001b[0m\u001b[1;33m)\u001b[0m\u001b[1;33m\u001b[0m\u001b[1;33m\u001b[0m\u001b[0m\n\u001b[0m\u001b[0;32m    139\u001b[0m \u001b[1;33m\u001b[0m\u001b[0m\n\u001b[0;32m    140\u001b[0m     \u001b[1;32mreturn\u001b[0m \u001b[0mstdout_data\u001b[0m\u001b[1;33m,\u001b[0m \u001b[0mstderr_data\u001b[0m\u001b[1;33m,\u001b[0m \u001b[0mprocess\u001b[0m\u001b[1;33m\u001b[0m\u001b[1;33m\u001b[0m\u001b[0m\n",
      "\u001b[1;32m~\\AppData\\Local\\Continuum\\anaconda3\\lib\\subprocess.py\u001b[0m in \u001b[0;36mcommunicate\u001b[1;34m(self, input, timeout)\u001b[0m\n\u001b[0;32m    931\u001b[0m \u001b[1;33m\u001b[0m\u001b[0m\n\u001b[0;32m    932\u001b[0m             \u001b[1;32mtry\u001b[0m\u001b[1;33m:\u001b[0m\u001b[1;33m\u001b[0m\u001b[1;33m\u001b[0m\u001b[0m\n\u001b[1;32m--> 933\u001b[1;33m                 \u001b[0mstdout\u001b[0m\u001b[1;33m,\u001b[0m \u001b[0mstderr\u001b[0m \u001b[1;33m=\u001b[0m \u001b[0mself\u001b[0m\u001b[1;33m.\u001b[0m\u001b[0m_communicate\u001b[0m\u001b[1;33m(\u001b[0m\u001b[0minput\u001b[0m\u001b[1;33m,\u001b[0m \u001b[0mendtime\u001b[0m\u001b[1;33m,\u001b[0m \u001b[0mtimeout\u001b[0m\u001b[1;33m)\u001b[0m\u001b[1;33m\u001b[0m\u001b[1;33m\u001b[0m\u001b[0m\n\u001b[0m\u001b[0;32m    934\u001b[0m             \u001b[1;32mexcept\u001b[0m \u001b[0mKeyboardInterrupt\u001b[0m\u001b[1;33m:\u001b[0m\u001b[1;33m\u001b[0m\u001b[1;33m\u001b[0m\u001b[0m\n\u001b[0;32m    935\u001b[0m                 \u001b[1;31m# https://bugs.python.org/issue25942\u001b[0m\u001b[1;33m\u001b[0m\u001b[1;33m\u001b[0m\u001b[1;33m\u001b[0m\u001b[0m\n",
      "\u001b[1;32m~\\AppData\\Local\\Continuum\\anaconda3\\lib\\subprocess.py\u001b[0m in \u001b[0;36m_communicate\u001b[1;34m(self, input, endtime, orig_timeout)\u001b[0m\n\u001b[0;32m   1259\u001b[0m             \u001b[1;31m# calls communicate again.\u001b[0m\u001b[1;33m\u001b[0m\u001b[1;33m\u001b[0m\u001b[1;33m\u001b[0m\u001b[0m\n\u001b[0;32m   1260\u001b[0m             \u001b[1;32mif\u001b[0m \u001b[0mself\u001b[0m\u001b[1;33m.\u001b[0m\u001b[0mstdout\u001b[0m \u001b[1;32mis\u001b[0m \u001b[1;32mnot\u001b[0m \u001b[1;32mNone\u001b[0m\u001b[1;33m:\u001b[0m\u001b[1;33m\u001b[0m\u001b[1;33m\u001b[0m\u001b[0m\n\u001b[1;32m-> 1261\u001b[1;33m                 \u001b[0mself\u001b[0m\u001b[1;33m.\u001b[0m\u001b[0mstdout_thread\u001b[0m\u001b[1;33m.\u001b[0m\u001b[0mjoin\u001b[0m\u001b[1;33m(\u001b[0m\u001b[0mself\u001b[0m\u001b[1;33m.\u001b[0m\u001b[0m_remaining_time\u001b[0m\u001b[1;33m(\u001b[0m\u001b[0mendtime\u001b[0m\u001b[1;33m)\u001b[0m\u001b[1;33m)\u001b[0m\u001b[1;33m\u001b[0m\u001b[1;33m\u001b[0m\u001b[0m\n\u001b[0m\u001b[0;32m   1262\u001b[0m                 \u001b[1;32mif\u001b[0m \u001b[0mself\u001b[0m\u001b[1;33m.\u001b[0m\u001b[0mstdout_thread\u001b[0m\u001b[1;33m.\u001b[0m\u001b[0mis_alive\u001b[0m\u001b[1;33m(\u001b[0m\u001b[1;33m)\u001b[0m\u001b[1;33m:\u001b[0m\u001b[1;33m\u001b[0m\u001b[1;33m\u001b[0m\u001b[0m\n\u001b[0;32m   1263\u001b[0m                     \u001b[1;32mraise\u001b[0m \u001b[0mTimeoutExpired\u001b[0m\u001b[1;33m(\u001b[0m\u001b[0mself\u001b[0m\u001b[1;33m.\u001b[0m\u001b[0margs\u001b[0m\u001b[1;33m,\u001b[0m \u001b[0morig_timeout\u001b[0m\u001b[1;33m)\u001b[0m\u001b[1;33m\u001b[0m\u001b[1;33m\u001b[0m\u001b[0m\n",
      "\u001b[1;32m~\\AppData\\Local\\Continuum\\anaconda3\\lib\\threading.py\u001b[0m in \u001b[0;36mjoin\u001b[1;34m(self, timeout)\u001b[0m\n\u001b[0;32m   1030\u001b[0m \u001b[1;33m\u001b[0m\u001b[0m\n\u001b[0;32m   1031\u001b[0m         \u001b[1;32mif\u001b[0m \u001b[0mtimeout\u001b[0m \u001b[1;32mis\u001b[0m \u001b[1;32mNone\u001b[0m\u001b[1;33m:\u001b[0m\u001b[1;33m\u001b[0m\u001b[1;33m\u001b[0m\u001b[0m\n\u001b[1;32m-> 1032\u001b[1;33m             \u001b[0mself\u001b[0m\u001b[1;33m.\u001b[0m\u001b[0m_wait_for_tstate_lock\u001b[0m\u001b[1;33m(\u001b[0m\u001b[1;33m)\u001b[0m\u001b[1;33m\u001b[0m\u001b[1;33m\u001b[0m\u001b[0m\n\u001b[0m\u001b[0;32m   1033\u001b[0m         \u001b[1;32melse\u001b[0m\u001b[1;33m:\u001b[0m\u001b[1;33m\u001b[0m\u001b[1;33m\u001b[0m\u001b[0m\n\u001b[0;32m   1034\u001b[0m             \u001b[1;31m# the behavior of a negative timeout isn't documented, but\u001b[0m\u001b[1;33m\u001b[0m\u001b[1;33m\u001b[0m\u001b[1;33m\u001b[0m\u001b[0m\n",
      "\u001b[1;32m~\\AppData\\Local\\Continuum\\anaconda3\\lib\\threading.py\u001b[0m in \u001b[0;36m_wait_for_tstate_lock\u001b[1;34m(self, block, timeout)\u001b[0m\n\u001b[0;32m   1046\u001b[0m         \u001b[1;32mif\u001b[0m \u001b[0mlock\u001b[0m \u001b[1;32mis\u001b[0m \u001b[1;32mNone\u001b[0m\u001b[1;33m:\u001b[0m  \u001b[1;31m# already determined that the C code is done\u001b[0m\u001b[1;33m\u001b[0m\u001b[1;33m\u001b[0m\u001b[0m\n\u001b[0;32m   1047\u001b[0m             \u001b[1;32massert\u001b[0m \u001b[0mself\u001b[0m\u001b[1;33m.\u001b[0m\u001b[0m_is_stopped\u001b[0m\u001b[1;33m\u001b[0m\u001b[1;33m\u001b[0m\u001b[0m\n\u001b[1;32m-> 1048\u001b[1;33m         \u001b[1;32melif\u001b[0m \u001b[0mlock\u001b[0m\u001b[1;33m.\u001b[0m\u001b[0macquire\u001b[0m\u001b[1;33m(\u001b[0m\u001b[0mblock\u001b[0m\u001b[1;33m,\u001b[0m \u001b[0mtimeout\u001b[0m\u001b[1;33m)\u001b[0m\u001b[1;33m:\u001b[0m\u001b[1;33m\u001b[0m\u001b[1;33m\u001b[0m\u001b[0m\n\u001b[0m\u001b[0;32m   1049\u001b[0m             \u001b[0mlock\u001b[0m\u001b[1;33m.\u001b[0m\u001b[0mrelease\u001b[0m\u001b[1;33m(\u001b[0m\u001b[1;33m)\u001b[0m\u001b[1;33m\u001b[0m\u001b[1;33m\u001b[0m\u001b[0m\n\u001b[0;32m   1050\u001b[0m             \u001b[0mself\u001b[0m\u001b[1;33m.\u001b[0m\u001b[0m_stop\u001b[0m\u001b[1;33m(\u001b[0m\u001b[1;33m)\u001b[0m\u001b[1;33m\u001b[0m\u001b[1;33m\u001b[0m\u001b[0m\n",
      "\u001b[1;31mKeyboardInterrupt\u001b[0m: "
     ]
    }
   ],
   "source": [
    "# visualize\n",
    "dotfile = StringIO()\n",
    "export_graphviz(model, out_file=dotfile, feature_names=X.columns)\n",
    "graph = pydot.graph_from_dot_data(dotfile.getvalue())\n",
    "graph[0].write_png(\"week3_dt_viz.png\") \n"
   ]
  },
  {
   "cell_type": "code",
   "execution_count": 70,
   "metadata": {},
   "outputs": [
    {
     "name": "stdout",
     "output_type": "stream",
     "text": [
      "Train accuracy: 0.7325820889610647\n",
      "Test accuracy: 0.7746580852775543\n",
      "              precision    recall  f1-score   support\n",
      "\n",
      "           0       0.88      0.85      0.87     10820\n",
      "           1       0.20      0.25      0.22      1610\n",
      "\n",
      "   micro avg       0.77      0.77      0.77     12430\n",
      "   macro avg       0.54      0.55      0.54     12430\n",
      "weighted avg       0.80      0.77      0.78     12430\n",
      "\n"
     ]
    }
   ],
   "source": [
    "#retrain with a small max_depth limit\n",
    "\n",
    "model = DecisionTreeClassifier(max_depth=3, random_state=rs)\n",
    "model.fit(x_res, y_res)\n",
    "\n",
    "print(\"Train accuracy:\", model.score(x_res, y_res))\n",
    "print(\"Test accuracy:\", model.score(X_test, Y_test))\n",
    "\n",
    "y_pred = model.predict(X_test)\n",
    "print(classification_report(Y_test, y_pred))"
   ]
  },
  {
   "cell_type": "code",
   "execution_count": 106,
   "metadata": {},
   "outputs": [
    {
     "name": "stdout",
     "output_type": "stream",
     "text": [
      "VehOdo : 0.11056465669524385\n",
      "VehBCost : 0.09854951397431685\n",
      "MMRAcquisitionRetailAveragePrice : 0.06717483317168223\n",
      "MMRCurrentAuctionAveragePrice : 0.06599777118371636\n",
      "MMRCurrentRetailCleanPrice : 0.06481747046982868\n",
      "MMRCurrentRetailAveragePrice : 0.06375962508640055\n",
      "MMRCurrentAuctionCleanPrice : 0.06273792032048549\n",
      "MMRAcquisitionAuctionCleanPrice : 0.06074040953840425\n",
      "MMRAcquisitionAuctionAveragePrice : 0.05995792303772442\n",
      "MMRAcquisitonRetailCleanPrice : 0.057301802123321983\n",
      "WarrantyCost : 0.05462887057347005\n",
      "VNST : 0.04970756765148726\n",
      "Color : 0.03982241119130328\n",
      "Make : 0.034003949634588096\n",
      "VehYear : 0.031563653053004126\n",
      "Size : 0.024255040639621427\n",
      "Auction : 0.01735174792863429\n",
      "TopThreeAmericanName : 0.012628992607344531\n",
      "WheelType : 0.011212782317357438\n",
      "Nationality : 0.006267300967203393\n",
      "Number of nodes:  7373\n"
     ]
    }
   ],
   "source": [
    "\n",
    "# grab feature importance from the model and feature name from the original X\n",
    "importances = model.feature_importances_\n",
    "feature_names = X.columns\n",
    "\n",
    "# sort them out in descending order\n",
    "indices = np.argsort(importances)\n",
    "indices = np.flip(indices, axis=0)\n",
    "\n",
    "# limit to 20 features, you can leave this out to print out everything\n",
    "indices = indices[:20]\n",
    "\n",
    "for i in indices:\n",
    "    print(feature_names[i], ':', importances[i])\n",
    "\n",
    "# visualize\n",
    "print(\"Number of nodes: \",model.tree_.node_count)\n",
    "dotfile = StringIO()\n",
    "export_graphviz(model, out_file=dotfile, feature_names=X.columns)\n",
    "graph = pydot.graph_from_dot_data(dotfile.getvalue())\n",
    "graph[0].write_png(\"week3_dt_viz.png\") # saved in the following file"
   ]
  },
  {
   "cell_type": "markdown",
   "metadata": {},
   "source": [
    "# Visualising relationship between hyperparameters and model performance"
   ]
  },
  {
   "cell_type": "code",
   "execution_count": 72,
   "metadata": {},
   "outputs": [],
   "source": [
    "test_score = []\n",
    "train_score = []\n",
    "\n",
    "# check the model performance for max depth from 2-20\n",
    "for max_depth in range(2, 21):\n",
    "    model = DecisionTreeClassifier(max_depth=max_depth, random_state=rs)\n",
    "    model.fit(x_res, y_res)\n",
    "    test_score.append(model.score(X_test, Y_test))\n",
    "    train_score.append(model.score(x_res, y_res))"
   ]
  },
  {
   "cell_type": "code",
   "execution_count": 87,
   "metadata": {},
   "outputs": [
    {
     "data": {
      "image/png": "[encoded data removed]",
      "text/plain": [
       "<Figure size 432x288 with 1 Axes>"
      ]
     },
     "metadata": {
      "needs_background": "light"
     },
     "output_type": "display_data"
    }
   ],
   "source": [
    "# plot max depth hyperparameter values vs training and test accuracy score\n",
    "print(\"Number of nodes: \",model.tree_.node_count)\n",
    "plt.plot(range(2, 21), train_score, 'b', range(2,21), test_score, 'r')\n",
    "plt.xlabel('max_depth\\nBlue = training acc. Red = test acc.')\n",
    "plt.ylabel('accuracy')\n",
    "plt.show()"
   ]
  },
  {
   "cell_type": "markdown",
   "metadata": {},
   "source": [
    "# Finding optimal hyperparameters with GridSearchCV"
   ]
  },
  {
   "cell_type": "code",
   "execution_count": 111,
   "metadata": {},
   "outputs": [
    {
     "name": "stdout",
     "output_type": "stream",
     "text": [
      "Train accuracy: 0.8312670812373747\n",
      "Test accuracy: 0.8662107803700724\n",
      "              precision    recall  f1-score   support\n",
      "\n",
      "           0       0.88      0.87      0.88     10820\n",
      "           1       0.21      0.23      0.22      1610\n",
      "\n",
      "   micro avg       0.79      0.79      0.79     12430\n",
      "   macro avg       0.55      0.55      0.55     12430\n",
      "weighted avg       0.80      0.79      0.79     12430\n",
      "\n",
      "{'criterion': 'gini', 'max_depth': 7, 'min_samples_leaf': 15}\n"
     ]
    }
   ],
   "source": [
    "# grid search CV\n",
    "params = {'criterion': ['gini', 'entropy'],\n",
    "          'max_depth': range(2, 8),\n",
    "          'min_samples_leaf': range(5, 20, 5)}\n",
    "\n",
    "cv = GridSearchCV(param_grid=params, estimator=DecisionTreeClassifier(random_state=rs), cv=10)\n",
    "cv.fit(x_res, y_res)\n",
    "\n",
    "print(\"Train accuracy:\", cv.score(x_res, y_res))\n",
    "print(\"Test accuracy:\", cv.score(X_test, Y_test))\n",
    "\n",
    "# test the best model\n",
    "y_pred = cv.predict(X_test)\n",
    "print(classification_report(Y_test, Y_pred))\n",
    "\n",
    "# print parameters of the best model\n",
    "print(cv.best_params_)"
   ]
  },
  {
   "cell_type": "code",
   "execution_count": 112,
   "metadata": {},
   "outputs": [
    {
     "name": "stdout",
     "output_type": "stream",
     "text": [
      "Train accuracy: 0.8482988077791421\n",
      "Test accuracy: 0.8552695092518101\n",
      "              precision    recall  f1-score   support\n",
      "\n",
      "           0       0.88      0.97      0.92     10820\n",
      "           1       0.28      0.07      0.12      1610\n",
      "\n",
      "   micro avg       0.86      0.86      0.86     12430\n",
      "   macro avg       0.58      0.52      0.52     12430\n",
      "weighted avg       0.80      0.86      0.82     12430\n",
      "\n",
      "{'criterion': 'gini', 'max_depth': 8, 'min_samples_leaf': 16}\n"
     ]
    }
   ],
   "source": [
    "\n",
    "# grid search CV #2\n",
    "params = {'criterion': ['gini', 'entropy'],\n",
    "          'max_depth': range(5, 9),\n",
    "          'min_samples_leaf': range(14,18,1)}\n",
    "\n",
    "cv = GridSearchCV(param_grid=params, estimator=DecisionTreeClassifier(random_state=rs), cv=10)\n",
    "cv.fit(x_res, y_res)\n",
    "\n",
    "print(\"Train accuracy:\", cv.score(x_res, y_res))\n",
    "print(\"Test accuracy:\", cv.score(X_test, Y_test))\n",
    "\n",
    "# test the best model\n",
    "y_pred = cv.predict(X_test)\n",
    "print(classification_report(Y_test, y_pred))\n",
    "\n",
    "# print parameters of the best model\n",
    "print(cv.best_params_)"
   ]
  },
  {
   "cell_type": "code",
   "execution_count": 113,
   "metadata": {},
   "outputs": [
    {
     "name": "stdout",
     "output_type": "stream",
     "text": [
      "WheelType : 0.4401487891964672\n",
      "Auction : 0.2856146408430723\n",
      "VehYear : 0.1554033971095392\n",
      "Make : 0.0467333734446875\n",
      "TopThreeAmericanName : 0.03358150634410972\n",
      "VehOdo : 0.008079771085258326\n",
      "MMRAcquisitionRetailAveragePrice : 0.0057247893366380405\n",
      "Nationality : 0.0045502836291589095\n",
      "VehBCost : 0.004141455652212974\n",
      "MMRCurrentRetailCleanPrice : 0.0037665021180968276\n",
      "MMRAcquisitionAuctionAveragePrice : 0.003624559912087576\n",
      "Size : 0.0027381719736960662\n",
      "WarrantyCost : 0.0019031962161049798\n",
      "MMRCurrentRetailAveragePrice : 0.0013957899885854257\n",
      "MMRCurrentAuctionCleanPrice : 0.0006886141750881684\n",
      "VNST : 0.0005590411983132328\n",
      "IsOnlineSale : 0.0005521440617810528\n",
      "MMRAcquisitonRetailCleanPrice : 0.0003444566051496012\n",
      "MMRAcquisitionAuctionCleanPrice : 0.000262388259797604\n",
      "Color : 0.00016084776296994687\n"
     ]
    }
   ],
   "source": [
    "# inside `dm_tools.py' together with data_prep()\n",
    "import numpy as np\n",
    "import pydot\n",
    "from io import StringIO\n",
    "from sklearn.tree import export_graphviz\n",
    "\n",
    "def analyse_feature_importance(dm_model, feature_names, n_to_display=20):\n",
    "    # grab feature importances from the model\n",
    "    importances = dm_model.feature_importances_\n",
    "    \n",
    "    # sort them out in descending order\n",
    "    indices = np.argsort(importances)\n",
    "    indices = np.flip(indices, axis=0)\n",
    "\n",
    "    # limit to 20 features, you can leave this out to print out everything\n",
    "    indices = indices[:n_to_display]\n",
    "\n",
    "    for i in indices:\n",
    "        print(feature_names[i], ':', importances[i])\n",
    "\n",
    "def visualize_decision_tree(dm_model, feature_names, save_name):\n",
    "    dotfile = StringIO()\n",
    "    export_graphviz(dm_model, out_file=dotfile, feature_names=feature_names)\n",
    "    graph = pydot.graph_from_dot_data(dotfile.getvalue())\n",
    "    graph[0].write_png(save_name) # saved in the following file\n",
    "    \n",
    "    \n",
    "analyse_feature_importance(cv.best_estimator_, X.columns, 20)\n",
    "visualize_decision_tree(cv.best_estimator_, X.columns, \"optimal_tree.png\")\n",
    "img = Image.open('optimal_tree.png')\n",
    "new_width  = 70000\n",
    "new_height =6000\n",
    "img = img.resize((new_width, new_height), Image.ANTIALIAS)\n",
    "img.save('optimal_tree.png')\n",
    "img.show() \n"
   ]
  }
 ],
 "metadata": {
  "kernelspec": {
   "display_name": "Python 2",
   "language": "python",
   "name": "python2"
  },
  "language_info": {
   "codemirror_mode": {
    "name": "ipython",
    "version": 2
   },
   "file_extension": ".py",
   "mimetype": "text/x-python",
   "name": "python",
   "nbconvert_exporter": "python",
   "pygments_lexer": "ipython2",
   "version": "2.7.16"
  }
 },
 "nbformat": 4,
 "nbformat_minor": 2
}
